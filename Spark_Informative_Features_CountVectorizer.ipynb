{
 "cells": [
  {
   "cell_type": "markdown",
   "metadata": {},
   "source": [
    "# Spark Count Vectorizer"
   ]
  },
  {
   "cell_type": "markdown",
   "metadata": {},
   "source": [
    "## References\n",
    "\n",
    "https://spark.apache.org/docs/latest/ml-features.html#countvectorizer\n",
    "\n",
    "https://github.com/apache/spark/blob/master/examples/src/main/python/ml/count_vectorizer_example.py\n",
    "\n",
    "https://spark.apache.org/docs/2.2.0/api/python/pyspark.ml.html#pyspark.ml.feature.CountVectorizerModel\n",
    "\n",
    "https://stackoverflow.com/questions/36349281/how-to-loop-through-each-row-of-dataframe-in-pyspark"
   ]
  },
  {
   "cell_type": "code",
   "execution_count": 1,
   "metadata": {},
   "outputs": [],
   "source": [
    "from pyspark.sql import SparkSession\n",
    "from pyspark.ml.feature import CountVectorizer"
   ]
  },
  {
   "cell_type": "code",
   "execution_count": 2,
   "metadata": {},
   "outputs": [],
   "source": [
    "spark = SparkSession\\\n",
    "        .builder\\\n",
    "        .appName(\"CountVectorizerExample\")\\\n",
    "        .getOrCreate()"
   ]
  },
  {
   "cell_type": "code",
   "execution_count": 3,
   "metadata": {},
   "outputs": [],
   "source": [
    "df = spark.createDataFrame([\n",
    "        (0, \"a b c\".split(\" \")),\n",
    "        (1, \"a b b c a\".split(\" \")),\n",
    "        (1, \"a b b e a\".split(\" \")),\n",
    "        (1, \"a b b c e\".split(\" \")),\n",
    "        (1, \"a b d c a\".split(\" \")),\n",
    "        (1, \"e e e e e e e e e e\".split(\" \")),\n",
    "        (0, \"a f f g a f\".split(\" \"))\n",
    "    ], [\"id\", \"words\"])"
   ]
  },
  {
   "cell_type": "code",
   "execution_count": 4,
   "metadata": {},
   "outputs": [
    {
     "name": "stdout",
     "output_type": "stream",
     "text": [
      "+---+--------------------+\n",
      "| id|               words|\n",
      "+---+--------------------+\n",
      "|  0|           [a, b, c]|\n",
      "|  1|     [a, b, b, c, a]|\n",
      "|  1|     [a, b, b, e, a]|\n",
      "|  1|     [a, b, b, c, e]|\n",
      "|  1|     [a, b, d, c, a]|\n",
      "|  1|[e, e, e, e, e, e...|\n",
      "|  0|  [a, f, f, g, a, f]|\n",
      "+---+--------------------+\n",
      "\n"
     ]
    }
   ],
   "source": [
    "df.show()"
   ]
  },
  {
   "cell_type": "code",
   "execution_count": 5,
   "metadata": {},
   "outputs": [],
   "source": [
    "# fit a CountVectorizerModel from the corpus.\n",
    "cv = CountVectorizer(inputCol=\"words\", outputCol=\"features\", vocabSize=4, minDF=2.0)"
   ]
  },
  {
   "cell_type": "code",
   "execution_count": 7,
   "metadata": {},
   "outputs": [],
   "source": [
    "model = cv.fit(df)"
   ]
  },
  {
   "cell_type": "code",
   "execution_count": 8,
   "metadata": {},
   "outputs": [
    {
     "name": "stdout",
     "output_type": "stream",
     "text": [
      "Min TF 1.0\n",
      "Min DF 2.0\n",
      "Max DF 9.223372036854776e+18\n"
     ]
    }
   ],
   "source": [
    "print('Min TF', model.getMinTF())\n",
    "print('Min DF', model.getMinDF())\n",
    "print('Max DF', model.getMaxDF())"
   ]
  },
  {
   "cell_type": "code",
   "execution_count": 9,
   "metadata": {},
   "outputs": [
    {
     "data": {
      "text/plain": [
       "['e', 'a', 'b', 'c']"
      ]
     },
     "execution_count": 9,
     "metadata": {},
     "output_type": "execute_result"
    }
   ],
   "source": [
    "model.vocabulary"
   ]
  },
  {
   "cell_type": "markdown",
   "metadata": {},
   "source": [
    "It appears that the default order of model.vocabulary is the order of significance of the features in descending order. Notice that 'e' appears first and it is most represented in the DataFrame."
   ]
  },
  {
   "cell_type": "code",
   "execution_count": 10,
   "metadata": {},
   "outputs": [],
   "source": [
    "result = model.transform(df)"
   ]
  },
  {
   "cell_type": "code",
   "execution_count": 11,
   "metadata": {},
   "outputs": [
    {
     "name": "stdout",
     "output_type": "stream",
     "text": [
      "+---+------------------------------+-------------------------------+\n",
      "|id |words                         |features                       |\n",
      "+---+------------------------------+-------------------------------+\n",
      "|0  |[a, b, c]                     |(4,[1,2,3],[1.0,1.0,1.0])      |\n",
      "|1  |[a, b, b, c, a]               |(4,[1,2,3],[2.0,2.0,1.0])      |\n",
      "|1  |[a, b, b, e, a]               |(4,[0,1,2],[1.0,2.0,2.0])      |\n",
      "|1  |[a, b, b, c, e]               |(4,[0,1,2,3],[1.0,1.0,2.0,1.0])|\n",
      "|1  |[a, b, d, c, a]               |(4,[1,2,3],[2.0,1.0,1.0])      |\n",
      "|1  |[e, e, e, e, e, e, e, e, e, e]|(4,[0],[10.0])                 |\n",
      "|0  |[a, f, f, g, a, f]            |(4,[1],[2.0])                  |\n",
      "+---+------------------------------+-------------------------------+\n",
      "\n"
     ]
    }
   ],
   "source": [
    "result.show(truncate=False)"
   ]
  },
  {
   "cell_type": "markdown",
   "metadata": {},
   "source": [
    "It appears that indexes in the features vector refer to indices in the `model.vocabulary` list. Note that model.vocabulary[0] is 'e'. Counts of [0] are equal to counts of 'e'."
   ]
  },
  {
   "cell_type": "code",
   "execution_count": 12,
   "metadata": {},
   "outputs": [],
   "source": [
    "feature_counts_dictionary = dict()\n",
    "for row in result.rdd.collect():\n",
    "    #print(row)\n",
    "    #print(row.features.indices)\n",
    "    #print(row.features)\n",
    "    #print(row.features[1])\n",
    "    for i in range(0,len(row.features.indices)):\n",
    "        feature_id = row.features.indices[i]\n",
    "        \n",
    "        feature_name = model.vocabulary[feature_id]\n",
    "        #print(feature_name)\n",
    "        feature_count = row.features[int(feature_id)]\n",
    "        #print(feature_count)\n",
    "        #print(\"feature_id {0}, feature_count {1}\".format(row.features.indices[i], row.features[i]))\n",
    "        if feature_name in feature_counts_dictionary:\n",
    "            feature_counts_dictionary[feature_name] += feature_count\n",
    "        else:\n",
    "            feature_counts_dictionary[feature_name] =  feature_count\n",
    "        "
   ]
  },
  {
   "cell_type": "code",
   "execution_count": 13,
   "metadata": {},
   "outputs": [
    {
     "name": "stdout",
     "output_type": "stream",
     "text": [
      "Most Informative Features\n",
      "e 12.0\n",
      "a 10.0\n",
      "b 8.0\n",
      "c 4.0\n"
     ]
    }
   ],
   "source": [
    "print('Most Informative Features')\n",
    "for feature in model.vocabulary:\n",
    "    print(feature, feature_counts_dictionary[feature])"
   ]
  },
  {
   "cell_type": "code",
   "execution_count": null,
   "metadata": {},
   "outputs": [],
   "source": []
  },
  {
   "cell_type": "code",
   "execution_count": null,
   "metadata": {},
   "outputs": [],
   "source": []
  }
 ],
 "metadata": {
  "kernelspec": {
   "display_name": "Python 3 (ipykernel)",
   "language": "python",
   "name": "python3"
  },
  "language_info": {
   "codemirror_mode": {
    "name": "ipython",
    "version": 3
   },
   "file_extension": ".py",
   "mimetype": "text/x-python",
   "name": "python",
   "nbconvert_exporter": "python",
   "pygments_lexer": "ipython3",
   "version": "3.12.4"
  }
 },
 "nbformat": 4,
 "nbformat_minor": 4
}
